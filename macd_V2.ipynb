{
 "cells": [
  {
   "cell_type": "code",
   "execution_count": 7,
   "metadata": {},
   "outputs": [
    {
     "name": "stdout",
     "output_type": "stream",
     "text": [
      "{'AMZN':                              open    high     low     close   volume  \\\n",
      "timestamp                                                              \n",
      "2022-09-01 08:00:00+00:00  125.50  125.76  125.20  125.5000    31958   \n",
      "2022-09-01 09:00:00+00:00  125.60  125.77  125.37  125.7200     9712   \n",
      "2022-09-01 10:00:00+00:00  125.59  125.77  125.41  125.7200    13359   \n",
      "2022-09-01 11:00:00+00:00  125.58  126.46  125.42  126.3000   251065   \n",
      "2022-09-01 12:00:00+00:00  126.10  126.77  125.41  125.8100   276230   \n",
      "...                           ...     ...     ...       ...      ...   \n",
      "2022-09-12 13:00:00+00:00  134.15  135.47  133.95  135.3828  7259267   \n",
      "2022-09-12 14:00:00+00:00  135.38  136.37  135.05  135.1850  9054521   \n",
      "2022-09-12 15:00:00+00:00  135.18  136.02  134.82  135.2699  6163088   \n",
      "2022-09-12 16:00:00+00:00  135.27  135.59  134.85  135.3500  4677800   \n",
      "2022-09-12 17:00:00+00:00  135.36  135.70  134.89  135.5000  1652878   \n",
      "\n",
      "                           trade_count        vwap  \n",
      "timestamp                                           \n",
      "2022-09-01 08:00:00+00:00          359  125.544846  \n",
      "2022-09-01 09:00:00+00:00          157  125.531896  \n",
      "2022-09-01 10:00:00+00:00          212  125.558937  \n",
      "2022-09-01 11:00:00+00:00         2699  125.996360  \n",
      "2022-09-01 12:00:00+00:00         3318  126.059334  \n",
      "...                                ...         ...  \n",
      "2022-09-12 13:00:00+00:00       103272  134.612196  \n",
      "2022-09-12 14:00:00+00:00        93186  135.750767  \n",
      "2022-09-12 15:00:00+00:00        64581  135.481004  \n",
      "2022-09-12 16:00:00+00:00        51457  135.270520  \n",
      "2022-09-12 17:00:00+00:00        17863  135.430893  \n",
      "\n",
      "[108 rows x 7 columns]}\n"
     ]
    }
   ],
   "source": [
    "# -*- coding: utf-8 -*-\n",
    "\"\"\"\n",
    "Alpaca API - Calculate and store MACD TI using historical data (V2 API)\n",
    "\n",
    "\"\"\"\n",
    "\n",
    "import os\n",
    "import json\n",
    "import alpaca_trade_api as tradeapi\n",
    "from alpaca_trade_api.rest import REST, TimeFrame\n",
    "\n",
    "\n",
    "\n",
    "API_KEY = os.getenv(\"ALPACA_API_KEY\")\n",
    "API_SECRET = os.getenv(\"ALPACA_SECRET_KEY\")\n",
    "\n",
    "endpoint = \"https://paper-api.alpaca.markets\"\n",
    "\n",
    "headers = {'APCA-API-KEY-ID': API_KEY,\n",
    "           'APCA-API-SECRET-KEY': API_SECRET}\n",
    "\n",
    "def hist_data(symbols, start_date =\"2021-12-01\", timeframe=\"Minute\"):\n",
    "    \"\"\"\n",
    "    returns historical bar data for a list of tickers e.g. symbols = [\"MSFT,AMZN,GOOG\"]\n",
    "    \"\"\"\n",
    "    df_data = {}\n",
    "    api = REST(headers[\"APCA-API-KEY-ID\"], headers[\"APCA-API-SECRET-KEY\"], base_url=endpoint)\n",
    "    for ticker in symbols:\n",
    "        if timeframe == \"Minute\":\n",
    "            df_data[ticker] = api.get_bars(ticker, TimeFrame.Minute, start_date, adjustment='all').df\n",
    "        elif timeframe == \"Hour\":\n",
    "            df_data[ticker] = api.get_bars(ticker, TimeFrame.Hour, start_date, adjustment='all').df\n",
    "        else:\n",
    "            df_data[ticker] = api.get_bars(ticker, TimeFrame.Day, start_date, adjustment='all').df\n",
    "    return df_data\n",
    "        \n",
    "data_dump = hist_data([\"AMZN\"], start_date =\"2022-09-01\", timeframe=\"Hour\") \n",
    "print(data_dump)\n",
    "\n",
    "def MACD(df_dict, a=12 ,b=26, c=9):\n",
    "    '''function to calculate MACD\n",
    "       typical values a(fast moving average) = 12; \n",
    "                      b(slow moving average) =26; \n",
    "                      c(signal line ma window) =9'''\n",
    "    for df in df_dict:\n",
    "        df_dict[df][\"ma_fast\"] = df_dict[df][\"close\"].ewm(span=a, min_periods=a).mean()\n",
    "        df_dict[df][\"ma_slow\"] = df_dict[df][\"close\"].ewm(span=b, min_periods=b).mean()\n",
    "        df_dict[df][\"macd\"] = df_dict[df][\"ma_fast\"] - df_dict[df][\"ma_slow\"]\n",
    "        df_dict[df][\"signal\"] = df_dict[df][\"macd\"].ewm(span=c, min_periods=c).mean()\n",
    "        df_dict[df].drop([\"ma_fast\",\"ma_slow\"], axis=1, inplace=True)\n",
    "\n",
    "MACD(data_dump)\n",
    "\n",
    "      "
   ]
  }
 ],
 "metadata": {
  "kernelspec": {
   "display_name": "Python 3.7.13 ('dev')",
   "language": "python",
   "name": "python3"
  },
  "language_info": {
   "codemirror_mode": {
    "name": "ipython",
    "version": 3
   },
   "file_extension": ".py",
   "mimetype": "text/x-python",
   "name": "python",
   "nbconvert_exporter": "python",
   "pygments_lexer": "ipython3",
   "version": "3.7.13"
  },
  "orig_nbformat": 4,
  "vscode": {
   "interpreter": {
    "hash": "bb4896eba2e43e817e326f95005b77416bfc5ca3345d6b1e7240300d542134ef"
   }
  }
 },
 "nbformat": 4,
 "nbformat_minor": 2
}
