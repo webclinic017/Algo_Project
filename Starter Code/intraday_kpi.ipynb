{
 "cells": [
  {
   "cell_type": "code",
   "execution_count": null,
   "metadata": {},
   "outputs": [
    {
     "ename": "",
     "evalue": "",
     "output_type": "error",
     "traceback": [
      "\u001b[1;31mRunning cells with 'Python 3.7.8 64-bit' requires ipykernel package.\n",
      "\u001b[1;31mRun the following command to install 'ipykernel' into the Python environment. \n",
      "\u001b[1;31mCommand: '\"c:/Program Files (x86)/Microsoft Visual Studio/Shared/Python37_64/python.exe\" -m pip install ipykernel -U --user --force-reinstall'"
     ]
    }
   ],
   "source": [
    "# -*- coding: utf-8 -*-\n",
    "\"\"\"\n",
    "Alpaca API - Intraday KPI\n",
    "\n",
    "\"\"\"\n",
    "import numpy as np\n",
    "\n",
    "API_KEY = os.getenv(\"ALPACA_API_KEY\")\n",
    "API_SECRET = os.getenv(\"ALPACA_SECRET_KEY\")\n",
    "\n",
    "endpoint = \"https://paper-api.alpaca.markets\"\n",
    "\n",
    "headers = {'APCA-API-KEY-ID': API_KEY,\n",
    "           'APCA-API-SECRET-KEY': API_SECRET}\n",
    "\n",
    "\n",
    "def winRate(DF):\n",
    "    \"function to calculate win rate of intraday trading strategy\"\n",
    "    df = DF[\"return\"]\n",
    "    pos = df[df > 1]\n",
    "    neg = df[df < 1]\n",
    "    return (len(pos)/(len(pos)+len(neg)))*100\n",
    "\n",
    "\n",
    "def meanretpertrade(DF):\n",
    "    df = DF[\"return\"]\n",
    "    df_temp = (df-1).dropna()\n",
    "    return df_temp[df_temp != 0].mean()\n",
    "\n",
    "\n",
    "def meanretwintrade(DF):\n",
    "    df = DF[\"return\"]\n",
    "    df_temp = (df-1).dropna()\n",
    "    return df_temp[df_temp > 0].mean()\n",
    "\n",
    "\n",
    "def meanretlosttrade(DF):\n",
    "    df = DF[\"return\"]\n",
    "    df_temp = (df-1).dropna()\n",
    "    return df_temp[df_temp < 0].mean()\n",
    "\n",
    "\n",
    "def maxconsectvloss(DF):\n",
    "    df = DF[\"return\"]\n",
    "    df_temp = df.dropna(axis=1)\n",
    "    df_temp2 = np.where(df_temp < 1, 1, 0)\n",
    "    count_consecutive = []\n",
    "    seek = 0\n",
    "    for i in range(len(df_temp2)):\n",
    "        if df_temp2[i] == 0:\n",
    "            if seek > 0:\n",
    "                count_consecutive.append(seek)\n",
    "            seek = 0\n",
    "        else:\n",
    "            seek += 1\n",
    "    if len(count_consecutive) > 0:\n",
    "        return max(count_consecutive)\n",
    "    else:\n",
    "        return 0\n"
   ]
  }
 ],
 "metadata": {
  "kernelspec": {
   "display_name": "Python (dev)",
   "language": "python",
   "name": "dev"
  },
  "language_info": {
   "name": "python",
   "version": "3.7.13"
  },
  "orig_nbformat": 4,
  "vscode": {
   "interpreter": {
    "hash": "0a54084e6b208ee8d1ce3989ffc20924477a5f55f5a43e22e699a6741623861e"
   }
  }
 },
 "nbformat": 4,
 "nbformat_minor": 2
}
