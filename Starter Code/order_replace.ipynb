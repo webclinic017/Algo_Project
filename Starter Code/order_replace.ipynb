{
 "cells": [
  {
   "cell_type": "code",
   "execution_count": 6,
   "metadata": {},
   "outputs": [
    {
     "data": {
      "text/plain": [
       "{'id': '78ed6159-a4fe-4955-bc3f-b9930de9251c',\n",
       " 'client_order_id': '9e852b67-84db-48ef-90a6-0a80446e425e',\n",
       " 'created_at': '2022-09-05T15:17:45.999257852Z',\n",
       " 'updated_at': '2022-09-05T15:17:45.999257852Z',\n",
       " 'submitted_at': '2022-09-05T15:17:45.997068672Z',\n",
       " 'filled_at': None,\n",
       " 'expired_at': None,\n",
       " 'canceled_at': None,\n",
       " 'failed_at': None,\n",
       " 'replaced_at': None,\n",
       " 'replaced_by': None,\n",
       " 'replaces': '4c695246-37fa-465d-b7ae-4d9797b8d126',\n",
       " 'asset_id': 'fc6a5dcd-4a70-4b8d-b64f-d83a6dae9ba4',\n",
       " 'symbol': 'META',\n",
       " 'asset_class': 'us_equity',\n",
       " 'notional': None,\n",
       " 'qty': '10',\n",
       " 'filled_qty': '0',\n",
       " 'filled_avg_price': None,\n",
       " 'order_class': '',\n",
       " 'order_type': 'trailing_stop',\n",
       " 'type': 'trailing_stop',\n",
       " 'side': 'sell',\n",
       " 'time_in_force': 'day',\n",
       " 'limit_price': None,\n",
       " 'stop_price': '157.39',\n",
       " 'status': 'new',\n",
       " 'extended_hours': False,\n",
       " 'legs': None,\n",
       " 'trail_percent': None,\n",
       " 'trail_price': '3',\n",
       " 'hwm': '160.39',\n",
       " 'subtag': None,\n",
       " 'source': None}"
      ]
     },
     "execution_count": 6,
     "metadata": {},
     "output_type": "execute_result"
    }
   ],
   "source": [
    "\"\"\"\n",
    "Alpaca API - Orders API (replacing orders)\n",
    "\n",
    "\"\"\"\n",
    "\n",
    "import requests\n",
    "import os\n",
    "import json\n",
    "import pandas as pd\n",
    "\n",
    "\n",
    "\n",
    "API_KEY = os.getenv(\"ALPACA_API_KEY\")\n",
    "API_SECRET = os.getenv(\"ALPACA_SECRET_KEY\")\n",
    "\n",
    "endpoint = \"https://paper-api.alpaca.markets\"\n",
    "\n",
    "headers = {'APCA-API-KEY-ID': API_KEY,\n",
    "           'APCA-API-SECRET-KEY': API_SECRET}\n",
    "\n",
    "def trail_stop_order(symbol, quantity, trail_pr, side=\"buy\", tif=\"day\"):\n",
    "    ord_url = endpoint + \"/v2/orders\"\n",
    "    params = {\"symbol\": symbol,\n",
    "              \"qty\": quantity,\n",
    "              \"side\" : side,\n",
    "              \"type\": \"trailing_stop\",\n",
    "              \"trail_price\" : trail_pr,\n",
    "              \"time_in_force\": tif}\n",
    "    r = requests.post(ord_url, headers=headers, json=params)\n",
    "    return r.json()\n",
    "\n",
    "def order_list(status = \"open\", limit = 50):\n",
    "    ord_list_url = endpoint + \"/v2/orders\"\n",
    "    params = {\"status\":status}\n",
    "    r = requests.get(ord_list_url, headers=headers, params=params)\n",
    "    data = r.json()\n",
    "    return pd.DataFrame(data)\n",
    "\n",
    "def order_replace(order_id, params):\n",
    "    ord_replc_url = endpoint + \"/v2/orders/{}\".format(order_id)\n",
    "    r = requests.patch(ord_replc_url, headers=headers, json=params)\n",
    "    return r.json()\n",
    "\n",
    "trail_stop_order(\"META\", 5, 2, \"sell\")\n",
    "order_df = order_list()\n",
    "order_replace(order_df[order_df[\"symbol\"]==\"META\"][\"id\"].to_list()[0],\n",
    "             {\"qty\" : 10, \"trail\": 3})\n",
    "    "
   ]
  }
 ],
 "metadata": {
  "kernelspec": {
   "display_name": "Python 3.7.13 ('dev')",
   "language": "python",
   "name": "python3"
  },
  "language_info": {
   "codemirror_mode": {
    "name": "ipython",
    "version": 3
   },
   "file_extension": ".py",
   "mimetype": "text/x-python",
   "name": "python",
   "nbconvert_exporter": "python",
   "pygments_lexer": "ipython3",
   "version": "3.7.13"
  },
  "orig_nbformat": 4,
  "vscode": {
   "interpreter": {
    "hash": "bb4896eba2e43e817e326f95005b77416bfc5ca3345d6b1e7240300d542134ef"
   }
  }
 },
 "nbformat": 4,
 "nbformat_minor": 2
}
