{
 "cells": [
  {
   "cell_type": "code",
   "execution_count": 1,
   "metadata": {},
   "outputs": [
    {
     "data": {
      "text/plain": [
       "[{'asset_id': '092efc51-b66b-4355-8132-d9c3796b9a76',\n",
       "  'symbol': 'XOM',\n",
       "  'exchange': 'NYSE',\n",
       "  'asset_class': 'us_equity',\n",
       "  'asset_marginable': False,\n",
       "  'qty': '20',\n",
       "  'avg_entry_price': '96.36',\n",
       "  'side': 'long',\n",
       "  'market_value': '1917',\n",
       "  'cost_basis': '1927.2',\n",
       "  'unrealized_pl': '-10.2',\n",
       "  'unrealized_plpc': '-0.0052926525529265',\n",
       "  'unrealized_intraday_pl': '-10.2',\n",
       "  'unrealized_intraday_plpc': '-0.0052926525529265',\n",
       "  'current_price': '95.85',\n",
       "  'lastday_price': '95.59',\n",
       "  'change_today': '0.0027199497855424',\n",
       "  'qty_available': '20'}]"
      ]
     },
     "execution_count": 1,
     "metadata": {},
     "output_type": "execute_result"
    }
   ],
   "source": [
    "\"\"\"\n",
    "Alpaca API - Getting positions\n",
    "\n",
    "\"\"\"\n",
    "\n",
    "import requests\n",
    "import os\n",
    "import json\n",
    "\n",
    "#os.chdir(\"D:\\\\Alpaca\") #change this based on the path on your local machine\n",
    "API_KEY = os.getenv(\"ALPACA_API_KEY\")\n",
    "API_SECRET = os.getenv(\"ALPACA_SECRET_KEY\")\n",
    "\n",
    "endpoint = \"https://paper-api.alpaca.markets\"\n",
    "\n",
    "headers = {'APCA-API-KEY-ID': API_KEY,\n",
    "           'APCA-API-SECRET-KEY': API_SECRET}\n",
    "\n",
    "def positions(symbol=\"\"):\n",
    "    if len(symbol)>1:\n",
    "        pos_url = endpoint + \"/v2/positions/{}\".format(symbol)\n",
    "    else:\n",
    "        pos_url = endpoint + \"/v2/positions\"\n",
    "    r = requests.get(pos_url, headers=headers)\n",
    "    return r.json()\n",
    "\n",
    "positions()"
   ]
  }
 ],
 "metadata": {
  "kernelspec": {
   "display_name": "Python 3.7.13 ('dev')",
   "language": "python",
   "name": "python3"
  },
  "language_info": {
   "codemirror_mode": {
    "name": "ipython",
    "version": 3
   },
   "file_extension": ".py",
   "mimetype": "text/x-python",
   "name": "python",
   "nbconvert_exporter": "python",
   "pygments_lexer": "ipython3",
   "version": "3.7.13"
  },
  "orig_nbformat": 4,
  "vscode": {
   "interpreter": {
    "hash": "bb4896eba2e43e817e326f95005b77416bfc5ca3345d6b1e7240300d542134ef"
   }
  }
 },
 "nbformat": 4,
 "nbformat_minor": 2
}
