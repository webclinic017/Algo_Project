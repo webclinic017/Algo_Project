{
 "cells": [
  {
   "cell_type": "code",
   "execution_count": 13,
   "metadata": {},
   "outputs": [
    {
     "data": {
      "text/plain": [
       "{'code': 40310000,\n",
       " 'message': 'cannot open a long buy while a short sell order is open'}"
      ]
     },
     "execution_count": 13,
     "metadata": {},
     "output_type": "execute_result"
    }
   ],
   "source": [
    "# -*- coding: utf-8 -*-\n",
    "# -*- coding: utf-8 -*-\n",
    "\"\"\"\n",
    "Alpaca API - Historical Data V2\n",
    "\n",
    "\"\"\"\n",
    "\n",
    "import requests\n",
    "import os\n",
    "import json\n",
    "import pandas as pd\n",
    "import time\n",
    "\n",
    "\n",
    "API_KEY = os.getenv(\"ALPACA_API_KEY\")\n",
    "API_SECRET = os.getenv(\"ALPACA_SECRET_KEY\")\n",
    "BASE_URL = \"https://paper-api.alpaca.markets\"\n",
    "\n",
    "endpoint = \"https://paper-api.alpaca.markets\"\n",
    "\n",
    "headers = {'APCA-API-KEY-ID': API_KEY,\n",
    "           'APCA-API-SECRET-KEY': API_SECRET}\n",
    "\n",
    "\n",
    "def market_order(symbol, quantity, side=\"buy\", tif=\"day\"):\n",
    "    ord_url = endpoint + \"/v2/orders\"\n",
    "    params = {\"symbol\": symbol,\n",
    "              \"qty\": quantity,\n",
    "              \"side\": side,\n",
    "              \"type\": \"market\",\n",
    "              \"time_in_force\": tif}\n",
    "    r = requests.post(ord_url, headers=headers, json=params)\n",
    "    return r.json()\n",
    "\n",
    "\n",
    "def trail_stop_order(symbol, quantity, trail_pr, side=\"buy\", tif=\"day\"):\n",
    "    ord_url = endpoint + \"/v2/orders\"\n",
    "    params = {\"symbol\": symbol,\n",
    "              \"qty\": quantity,\n",
    "              \"side\": side,\n",
    "              \"type\": \"trailing_stop\",\n",
    "              \"trail_price\": trail_pr,\n",
    "              \"time_in_force\": tif}\n",
    "\n",
    "    r = requests.post(ord_url, headers=headers, json=params)\n",
    "    return r.json()\n",
    "\n",
    "trail_stop_order(\"AAPL\", 1, 2, \"sell\")\n",
    "\n",
    "market_order(\"AAPL\", 1)\n",
    "\n"
   ]
  }
 ],
 "metadata": {
  "kernelspec": {
   "display_name": "Python 3.7.13 ('dev')",
   "language": "python",
   "name": "python3"
  },
  "language_info": {
   "codemirror_mode": {
    "name": "ipython",
    "version": 3
   },
   "file_extension": ".py",
   "mimetype": "text/x-python",
   "name": "python",
   "nbconvert_exporter": "python",
   "pygments_lexer": "ipython3",
   "version": "3.7.13"
  },
  "orig_nbformat": 4,
  "vscode": {
   "interpreter": {
    "hash": "bb4896eba2e43e817e326f95005b77416bfc5ca3345d6b1e7240300d542134ef"
   }
  }
 },
 "nbformat": 4,
 "nbformat_minor": 2
}
