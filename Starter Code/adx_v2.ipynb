{
 "cells": [
  {
   "cell_type": "code",
   "execution_count": 8,
   "metadata": {},
   "outputs": [],
   "source": [
    "# -*- coding: utf-8 -*-\n",
    "\"\"\"\n",
    "Alpaca API - Calculate and store Average Directional Index using historical data (V2 API)\n",
    "\n",
    "\"\"\"\n",
    "\n",
    "import os\n",
    "import json\n",
    "from alpaca_trade_api.rest import REST, TimeFrame\n",
    "import numpy as np\n",
    "\n",
    "API_KEY = os.getenv(\"ALPACA_API_KEY\")\n",
    "API_SECRET = os.getenv(\"ALPACA_SECRET_KEY\")\n",
    "\n",
    "endpoint = \"https://paper-api.alpaca.markets\"\n",
    "\n",
    "headers = {'APCA-API-KEY-ID': API_KEY,\n",
    "           'APCA-API-SECRET-KEY': API_SECRET}\n",
    "\n",
    "def hist_data(symbols, start_date =\"2021-12-01\", timeframe=\"Minute\"):\n",
    "    \"\"\"\n",
    "    returns historical bar data for a list of tickers e.g. symbols = [\"MSFT,AMZN,GOOG\"]\n",
    "    \"\"\"\n",
    "    df_data = {}\n",
    "    api = REST(headers[\"APCA-API-KEY-ID\"], headers[\"APCA-API-SECRET-KEY\"], base_url=endpoint)\n",
    "    for ticker in symbols:\n",
    "        if timeframe == \"Minute\":\n",
    "            df_data[ticker] = api.get_bars(ticker, TimeFrame.Minute, start_date, adjustment='all').df\n",
    "        elif timeframe == \"Hour\":\n",
    "            df_data[ticker] = api.get_bars(ticker, TimeFrame.Hour, start_date, adjustment='all').df\n",
    "        else:\n",
    "            df_data[ticker] = api.get_bars(ticker, TimeFrame.Day, start_date, adjustment='all').df\n",
    "    return df_data\n",
    "        \n",
    "data_dump = hist_data([\"AMZN\"], start_date =\"2021-12-12\", timeframe=\"Hour\") \n",
    "\n",
    "def ATR(df_dict, n=14):\n",
    "    \"function to calculate True Range and Average True Range\"\n",
    "    for df in df_dict:\n",
    "        df_dict[df][\"H-L\"] = df_dict[df][\"high\"] - df_dict[df][\"low\"]\n",
    "        df_dict[df][\"H-PC\"] = abs(df_dict[df][\"high\"] - df_dict[df][\"close\"].shift(1))\n",
    "        df_dict[df][\"L-PC\"] = abs(df_dict[df][\"low\"] - df_dict[df][\"close\"].shift(1))\n",
    "        df_dict[df][\"TR\"] = df_dict[df][[\"H-L\",\"H-PC\",\"L-PC\"]].max(axis=1, skipna=False)\n",
    "        df_dict[df][\"ATR\"] = df_dict[df][\"TR\"].ewm(span=n, min_periods=n).mean()\n",
    "        df_dict[df].drop([\"H-L\",\"H-PC\",\"L-PC\",\"TR\"], axis=1, inplace=True)\n",
    "\n",
    "def ADX(df_dict, n=20):\n",
    "    \"function to calculate ADX\"\n",
    "    for df in df_dict:\n",
    "        ATR(df_dict, n)\n",
    "        df_dict[df][\"upmove\"] = df_dict[df][\"high\"] - df_dict[df][\"high\"].shift(1)\n",
    "        df_dict[df][\"downmove\"] = df_dict[df][\"low\"].shift(1) - df_dict[df][\"low\"]\n",
    "        df_dict[df][\"+dm\"] = np.where((df_dict[df][\"upmove\"]>df_dict[df][\"downmove\"]) & (df_dict[df][\"upmove\"] >0), df_dict[df][\"upmove\"], 0)\n",
    "        df_dict[df][\"-dm\"] = np.where((df_dict[df][\"downmove\"]>df_dict[df][\"upmove\"]) & (df_dict[df][\"downmove\"] >0), df_dict[df][\"downmove\"], 0)\n",
    "        df_dict[df][\"+di\"] = 100 * (df_dict[df][\"+dm\"]/df_dict[df][\"ATR\"]).ewm(alpha=1/n, min_periods=n).mean()\n",
    "        df_dict[df][\"-di\"] = 100 * (df_dict[df][\"-dm\"]/df_dict[df][\"ATR\"]).ewm(alpha=1/n, min_periods=n).mean()\n",
    "        df_dict[df][\"ADX\"] = 100* abs((df_dict[df][\"+di\"] - df_dict[df][\"-di\"])/(df_dict[df][\"+di\"] + df_dict[df][\"-di\"])).ewm(alpha=1/n, min_periods=n).mean()\n",
    "\n",
    "\n",
    "        \n",
    "ADX(data_dump)\n",
    "       \n",
    "        \n",
    "      "
   ]
  }
 ],
 "metadata": {
  "kernelspec": {
   "display_name": "Python 3.7.13 ('dev')",
   "language": "python",
   "name": "python3"
  },
  "language_info": {
   "codemirror_mode": {
    "name": "ipython",
    "version": 3
   },
   "file_extension": ".py",
   "mimetype": "text/x-python",
   "name": "python",
   "nbconvert_exporter": "python",
   "pygments_lexer": "ipython3",
   "version": "3.7.13"
  },
  "orig_nbformat": 4,
  "vscode": {
   "interpreter": {
    "hash": "bb4896eba2e43e817e326f95005b77416bfc5ca3345d6b1e7240300d542134ef"
   }
  }
 },
 "nbformat": 4,
 "nbformat_minor": 2
}
