{
 "cells": [
  {
   "cell_type": "code",
   "execution_count": 1,
   "metadata": {},
   "outputs": [
    {
     "data": {
      "text/plain": [
       "[{'id': 'd181d2f5-2511-4441-b9cb-589c72dfe788', 'status': 200},\n",
       " {'id': 'dc5f5e62-863e-43a7-86f0-5ce6c77f8bc6', 'status': 200}]"
      ]
     },
     "execution_count": 1,
     "metadata": {},
     "output_type": "execute_result"
    }
   ],
   "source": [
    "\"\"\"\n",
    "Alpaca API - Orders API (cancelling orders)\n",
    "\n",
    "\"\"\"\n",
    "\n",
    "import requests\n",
    "import os\n",
    "import json\n",
    "import pandas as pd\n",
    "\n",
    "#os.chdir(\"D:\\\\Alpaca\") #change this based on the path on your local machine\n",
    "\n",
    "API_KEY = os.getenv(\"ALPACA_API_KEY\")\n",
    "API_SECRET = os.getenv(\"ALPACA_SECRET_KEY\")\n",
    "\n",
    "endpoint = \"https://paper-api.alpaca.markets\"\n",
    "\n",
    "headers = {'APCA-API-KEY-ID': API_KEY,\n",
    "           'APCA-API-SECRET-KEY': API_SECRET}\n",
    "\n",
    "def limit_order(symbol, quantity, limit_pr, side=\"buy\", tif=\"day\"):\n",
    "    ord_url = endpoint + \"/v2/orders\"\n",
    "    params = {\"symbol\": symbol,\n",
    "              \"qty\": quantity,\n",
    "              \"side\" : side,\n",
    "              \"type\": \"limit\",\n",
    "              \"limit_price\" : limit_pr,\n",
    "              \"time_in_force\": tif}\n",
    "    r = requests.post(ord_url, headers=headers, json=params)\n",
    "    return r.json()\n",
    "\n",
    "def order_list(status = \"open\", limit = 50):\n",
    "    ord_list_url = endpoint + \"/v2/orders\"\n",
    "    params = {\"status\":status}\n",
    "    r = requests.get(ord_list_url, headers=headers, params=params)\n",
    "    data = r.json()\n",
    "    return pd.DataFrame(data)\n",
    "\n",
    "def order_cancel(order_id=\"\"):\n",
    "    if len(order_id)>1:\n",
    "        ord_cncl_url = endpoint + \"/v2/orders/{}\".format(order_id)\n",
    "    else:\n",
    "        ord_cncl_url = endpoint + \"/v2/orders\"\n",
    "    r = requests.delete(ord_cncl_url, headers=headers)\n",
    "    return r.json()\n",
    "\n",
    "order_df = order_list()\n",
    "#limit_order(\"CSCO\", 15, 50, side=\"sell\")\n",
    "#limit_order(\"META\", 10, 40, side=\"sell\")\n",
    "#order_cancel(order_df[order_df[\"symbol\"]==\"CSCO\"][\"id\"].to_list([0]))\n",
    "order_cancel()\n"
   ]
  }
 ],
 "metadata": {
  "kernelspec": {
   "display_name": "Python 3.7.13 ('dev')",
   "language": "python",
   "name": "python3"
  },
  "language_info": {
   "codemirror_mode": {
    "name": "ipython",
    "version": 3
   },
   "file_extension": ".py",
   "mimetype": "text/x-python",
   "name": "python",
   "nbconvert_exporter": "python",
   "pygments_lexer": "ipython3",
   "version": "3.7.13"
  },
  "orig_nbformat": 4,
  "vscode": {
   "interpreter": {
    "hash": "bb4896eba2e43e817e326f95005b77416bfc5ca3345d6b1e7240300d542134ef"
   }
  }
 },
 "nbformat": 4,
 "nbformat_minor": 2
}
